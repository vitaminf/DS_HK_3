{
 "metadata": {
  "name": "",
  "signature": "sha256:bb26cf3b4115eb6f07504aa607103a03b8db31f814ff76c57d4e489062efe081"
 },
 "nbformat": 3,
 "nbformat_minor": 0,
 "worksheets": [
  {
   "cells": [
    {
     "cell_type": "code",
     "collapsed": false,
     "input": [
      "%%javascript\n",
      "function is_local(){\n",
      "    return (document.location.hostname == \"localhost\" || document.location.hostname == '127.0.0.1')\n",
      "}\n",
      "var url = is_local() ? \"http://localhost:8000/theme/custom.js\" : \"http://odhk.github.io/hyrule_theme/custom.js\"\n",
      "$.getScript(url)"
     ],
     "language": "python",
     "metadata": {},
     "outputs": [
      {
       "javascript": [
        "function is_local(){\n",
        "    return (document.location.hostname == \"localhost\" || document.location.hostname == '127.0.0.1')\n",
        "}\n",
        "var url = is_local() ? \"http://localhost:8000/theme/custom.js\" : \"http://odhk.github.io/hyrule_theme/custom.js\"\n",
        "$.getScript(url)"
       ],
       "metadata": {},
       "output_type": "display_data",
       "text": [
        "<IPython.core.display.Javascript at 0x3682a90>"
       ]
      }
     ],
     "prompt_number": 1
    },
    {
     "cell_type": "markdown",
     "metadata": {},
     "source": [
      "# Git & Github"
     ]
    },
    {
     "cell_type": "markdown",
     "metadata": {},
     "source": [
      "There are plenty of guides to using Git our there, but perhaps none are simpler than the [Simple Git Guide](http://rogerdudler.github.io/git-guide/) which promises to get you started with git - no deep shit ;). Atlassian offers a more elaborate [introduction to git](https://www.atlassian.com/git/tutorial/git-basics), which will be good to consult as a reference if you ever get stuck.\n",
      "\n",
      "Though we will be using GitHub instead of Atlassian's bitbucket in class, the tutorials and workflow examples are transferable. Pay special attention to the `git clone`, `git add` and `git commit` commands as we'll be using those the most!\n",
      "\n",
      "For class, you will need to complete the [setup](#Setup) step, as well as\n",
      "[setting up the course materials](#Setup-Course-Materials).\n",
      "\n",
      "To understand how we will be using Git in the classroom environment, the [Git Workflow](#Git-Workflow) is advised reading. Mind you, these aren't steps to follow, but rather 'recipes' for deadling with specific use cases. So if you want to 'add the changes you've made to GitHub', then this [particular recipe](#Add-your-changes-to-Github) will help you with that. \n",
      "\n",
      "Finally, this guide lists some [Git tips](#Useful-Git-Tips-and-Tools) which you can consult once you can familiar with the basic workflow."
     ]
    },
    {
     "cell_type": "markdown",
     "metadata": {},
     "source": [
      "![break](assets/code.png)"
     ]
    },
    {
     "cell_type": "markdown",
     "metadata": {},
     "source": [
      "## Setup"
     ]
    },
    {
     "cell_type": "heading",
     "level": 3,
     "metadata": {},
     "source": [
      "Install the Git binary"
     ]
    },
    {
     "cell_type": "markdown",
     "metadata": {},
     "source": [
      "Install the version of git specific to your Operating System. On Windows and OSX they will suggest installing the native GitHub app, but for now avoid it and follow the rest of the guide instead. There are some collapsed helper sections on these pages, so be sure to expand them if you are stuck on something.\n",
      "\n",
      "* [Windows](http://git-scm.com/download/win)\n",
      "* [OSX](https://code.google.com/p/git-osx-installer/)\t\n",
      "**Troubleshooting**\n",
      "\t* **Q** *I can't install from an unknown source*\n",
      "\t* **A** Right-click --> Open with Installer App\n",
      "* [Linux](http://git-scm.com/download/linux)"
     ]
    },
    {
     "cell_type": "heading",
     "level": 3,
     "metadata": {},
     "source": [
      "Github Setup"
     ]
    },
    {
     "cell_type": "markdown",
     "metadata": {},
     "source": [
      "First, [signup](https://github.com/join) for Github, but don't follow the steps suggested after 'Go Celabrate'. \n",
      "\n",
      "Now, follow the guides for your Operation System. Password caching is optional.\n",
      "\n",
      "* [Windows](https://help.github.com/articles/set-up-git#platform-windows)\n",
      "* [OSX](https://help.github.com/articles/set-up-git#platform-mac)\n",
      "* [Linux](https://help.github.com/articles/set-up-git#platform-linux)\n",
      "\n",
      "Config Git for the future. Paste this anywhere into your terminal.\n",
      "\n",
      "`git config --global push.default simple`\n"
     ]
    },
    {
     "cell_type": "heading",
     "level": 3,
     "metadata": {},
     "source": [
      "Authentication"
     ]
    },
    {
     "cell_type": "markdown",
     "metadata": {},
     "source": [
      "Generate SSH Keys and add them to GitHub. It's easy to miss out the step where you need to manually _add the keys to Github_. This isn't optional.\n",
      "\n",
      "* [Windows](https://help.github.com/articles/generating-ssh-keys#platform-windows)\n",
      "* [OSX](https://help.github.com/articles/generating-ssh-keys#platform-mac)\n",
      "* [Linux](https://help.github.com/articles/generating-ssh-keys#platform-linux)"
     ]
    },
    {
     "cell_type": "markdown",
     "metadata": {},
     "source": [
      "![break](assets/code.png)"
     ]
    },
    {
     "cell_type": "heading",
     "level": 2,
     "metadata": {},
     "source": [
      "Setup Course Materials"
     ]
    },
    {
     "cell_type": "heading",
     "level": 3,
     "metadata": {},
     "source": [
      "Fork the course repository"
     ]
    },
    {
     "cell_type": "markdown",
     "metadata": {},
     "source": [
      "Visit the General Assembly [repository for this class](https://github.com/ga-students/DS_HK_2), click `Fork` in the top right corner to create your own 'linked copy' at your GitHub account. The GA repo is hosted at `github.com/ga-students/DS_HK_2` you should now have `https://github.com/yourname/DS_HK_2`.\n",
      "\n",
      "Click the little wrench icon on the right sidebar to go to settings. Click collaborators. You should be at `https://github.com/yourname/DS_HK_2/settings/collaboration`. \n",
      "\n",
      "1. Add your instructor(s) `tijptjik' to the project.\n",
      "1. Follow your instructor by clicking [Follow](https://github.com/tijptjik/) on their github profile. This way you'll be in the loop on their new projects and code changes."
     ]
    },
    {
     "cell_type": "heading",
     "level": 3,
     "metadata": {},
     "source": [
      "Local Repo"
     ]
    },
    {
     "cell_type": "markdown",
     "metadata": {},
     "source": [
      "You can get a local (i.e. on your machine) copy of the course files by `cloning` the repository to your local machine.\n",
      "\n",
      "1. Open a terminal\n",
      "1. [Navigate](http://linuxcommand.org/lts0020.php) to the directory where you want to save your course files\n",
      "1. On the GitHub page featuring your copy of the course files, i.e. `https://github.com/yourname/DS_HK_2` there is a box on the right wih the `HTTPS clone URL`, select `SSH` instead. It will take the form of `git@github.com:yourname/DS_HK_2.git`. Copy it to your clipboard.\n",
      "1. back in the terminal, paste it after the `git clone ` command, so the full command will look like\n",
      "```bash\n",
      "git clone git@github.com:yourname/DS_HK_2.git`\n",
      "```\n",
      "1. You now have a local clone of your github repo."
     ]
    },
    {
     "cell_type": "heading",
     "level": 3,
     "metadata": {},
     "source": [
      "Add General Assembly as Upstream"
     ]
    },
    {
     "cell_type": "markdown",
     "metadata": {},
     "source": [
      "1. Open a terminal\n",
      "1. [Navigate](http://linuxcommand.org/lts0020.php) to the directory where you keep your local course files.\n",
      "1. Inside the repository directory, `git status` will confirm that you are in the right place.\n",
      "1. Paste and run `git remote add upstream git@github.com:ga-students/DS_HK_2.git`\n",
      "1. `git remote -v` will confirm that you have sucessfully added an upstream remote."
     ]
    },
    {
     "cell_type": "heading",
     "level": 3,
     "metadata": {},
     "source": [
      "Git for SublimeText3"
     ]
    },
    {
     "cell_type": "markdown",
     "metadata": {},
     "source": [
      "1. [Install](http://www.sublimetext.com/3) `SublimeText3' for your OS.\n",
      "1. Install `Package Manager` (https://sublime.wbond.net/installation).\n",
      "1. Press `ESC` to close the console.\n",
      "1. Install the `Git` extension\n",
      "\t1. Open the command palette\n",
      "\t\t* Win: `CTRL + SHIFT + P`\n",
      "\t\t* OSX: `CMD + SHIFT + P` \n",
      "\t\t* Lin: `CTRL + SHIFT + P`\n",
      "\t1. Type 'install' , select the `Package Manage : Install Package` option.\n",
      "\t1. Type 'git' , wait a bit, select the `Git` option."
     ]
    },
    {
     "cell_type": "markdown",
     "metadata": {},
     "source": [
      "![break](assets/code.png)"
     ]
    },
    {
     "cell_type": "heading",
     "level": 2,
     "metadata": {},
     "source": [
      "Git Workflow"
     ]
    },
    {
     "cell_type": "markdown",
     "metadata": {},
     "source": [
      "The Git Workflow is completely handled from the SublimeText (**ST**) Editor. Commands are issues from the Comman Palette (**CP**) which you can call up with the shortcut\n",
      "\t* Win: `CTRL + SHIFT + P`\n",
      "\t* OSX: `CMD + SHIFT + P` \n",
      "\t* Lin: `CTRL + SHIFT + P`\n",
      "\n",
      "Git is essentially a command line app, but with the git extension for SublimeText you installed earlier, you don't need to be in a terminal to manage your local repository's history. For any of these commands to work however **you need toadd the _root_ of your repository as a project in SublimeText,** as decribed in the next section."
     ]
    },
    {
     "cell_type": "heading",
     "level": 3,
     "metadata": {},
     "source": [
      "Adding your Repository as a Project in SublimeText"
     ]
    },
    {
     "cell_type": "markdown",
     "metadata": {},
     "source": [
      "1. Open the ST Command Palette (**CP**)\n",
      "1. **CP** : Type `project`, select `Project : Add Folder`\n",
      "1. Navigate to the root (the directory which contains all your course files) and add it\n",
      "1. Open the ST Command Palette (**CP**)\n",
      "1. **CP** : Type `project`, select `Project : Save As`"
     ]
    },
    {
     "cell_type": "heading",
     "level": 3,
     "metadata": {},
     "source": [
      "Add your changes to Github"
     ]
    },
    {
     "cell_type": "markdown",
     "metadata": {},
     "source": [
      "1. Open the ST Command Palette (**CP**)\n",
      "1. **CP** : Type `git add`, select `Add Files ...`\n",
      "1. **CP** : Select the specific files you want to add, or select `All Files - including untracked` if you want to add everything\n",
      "1. **CP** : Type `git commit`, select `Git Commit`\n",
      "1. A review of your changes open up in a new tab. Inspect these changes to make sure this is what you want to add as a 'checkpoint' to your version control history.\n",
      "1. Write a short message on the first line as your [commit message](http://who-t.blogspot.de/2009/12/on-commit-messages.html). \n",
      "1. Close the tab (`CMD/CTRL + W`) to commit the changes. It is now in your version control history. \n",
      "1. **CP** : Type `git push`, select `Git Push`, to send the changes to GitHub\n",
      "1. If you get an `! [rejected] master -> master (non-fast-forward)` error message, try 'Git Pull' before doing 'Git Push', resolve [merge conflitcs](#Resolving-Merge-Conflicts) as necessary."
     ]
    },
    {
     "cell_type": "heading",
     "level": 3,
     "metadata": {},
     "source": [
      "Pull in changes from upstream"
     ]
    },
    {
     "cell_type": "markdown",
     "metadata": {},
     "source": [
      "1. Open the ST Command Palette (**CP**)\n",
      "1. **CP** : Type `git custom`, select `Git Custom Command`, to enter a custom command. The Git Command Prompt (**GCP**) will pop up at the bottom of the screen.\n",
      "1. **GCP** : Type `pull upstream`\n",
      "1. If you get an `! [rejected] master -> master (non-fast-forward)` error message, resolve [merge conflitcs](#Resolving-Merge-Conflicts) as necessary.\n"
     ]
    },
    {
     "cell_type": "heading",
     "level": 3,
     "metadata": {},
     "source": [
      "Resolving Merge Conflicts"
     ]
    },
    {
     "cell_type": "markdown",
     "metadata": {},
     "source": [
      "1. God help you.\n",
      "1. Just kidding. The git merge error message will have told you which files were affected.\n",
      "1. Open these files and remove the lines resulting in the merge conflict. They are wrapped by `<<<<<<`.\n",
      "1. Add and Commit the file, in your commit message, mention that it resolves a merge conflict."
     ]
    },
    {
     "cell_type": "markdown",
     "metadata": {},
     "source": [
      "![break](assets/code.png)"
     ]
    },
    {
     "cell_type": "heading",
     "level": 2,
     "metadata": {},
     "source": [
      "Useful Git Tips and Tools"
     ]
    },
    {
     "cell_type": "markdown",
     "metadata": {},
     "source": [
      "All these commands are available from the Command Palette. It helps to understand that Git has a [staging area](http://betterexplained.com/articles/aha-moments-when-learning-git/) and offers [branch](https://www.atlassian.com/git/tutorial/git-branches#!branch) support."
     ]
    },
    {
     "cell_type": "heading",
     "level": 3,
     "metadata": {},
     "source": [
      "Committing and Reseting"
     ]
    },
    {
     "cell_type": "markdown",
     "metadata": {},
     "source": [
      "* `Git Quick Commit`, Add Current File/Commit rolled into one. Ideal for small changes.\n",
      "* `Git Reset (unstage) Current File`, unstage (don't track changes when commiting) for this file, though changes remain intact\n",
      "* `Git Reset (unstage) All`, remove everything from your staging area, so you may select the files you want to reference in this commit a-fresh. \n",
      "* `Git Checkout Current File` , reset file to its last state in the repository\n",
      "* `Git Reset (hard) HEAD`, reset _all_ tracked files to the state the were in the most recent commit. [Potentially Dangerous](http://stackoverflow.com/questions/9529078/git-for-a-beginner-git-reset-hard-head), \n"
     ]
    },
    {
     "cell_type": "heading",
     "level": 3,
     "metadata": {},
     "source": [
      "Status and History"
     ]
    },
    {
     "cell_type": "markdown",
     "metadata": {},
     "source": [
      "* `Git Status` , see which files are changes _and_ have been added (staged) for your next commit.\n",
      "* `Git Diff All` , see which lines were changes even those which _aren't_ staged for your next commit.\n",
      "* `Git Diff Stages` , see which lines are changes _and_ have been added (staged) for your next commit.\n",
      "* `Git Log All` , display commit history\n",
      "* `Git Graph All` , display a graph of the branch development history.\n",
      "* `Git Blame` , see who wrote which line when for the current file"
     ]
    },
    {
     "cell_type": "heading",
     "level": 3,
     "metadata": {},
     "source": [
      "Branching"
     ]
    },
    {
     "cell_type": "markdown",
     "metadata": {},
     "source": [
      "* `Git Branch New`, create a new branch to work on. Takes current state of the files as its starting point.\n",
      "* `Git Branch Merge`, merge the current branch back into another branch.\n",
      "* `Git Branch Change`, change from current branch to another branch.\n",
      "* `Git Branch Delete`, delete a branch after you've merged it into your main branch, or have abandonned the experiment."
     ]
    }
   ],
   "metadata": {}
  }
 ]
}