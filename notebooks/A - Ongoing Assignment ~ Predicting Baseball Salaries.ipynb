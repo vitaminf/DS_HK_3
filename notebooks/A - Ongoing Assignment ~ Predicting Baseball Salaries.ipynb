{
 "metadata": {
  "name": "",
  "signature": "sha256:db14cd5e92ec70d44d97eb51adff8d485ceb886d2bbbcd74d9032be88f249702"
 },
 "nbformat": 3,
 "nbformat_minor": 0,
 "worksheets": [
  {
   "cells": [
    {
     "cell_type": "code",
     "collapsed": false,
     "input": [
      "%%javascript\n",
      "function is_local(){\n",
      "  return (document.location.hostname == \"localhost\" || document.location.hostname == '127.0.0.1')\n",
      "}\n",
      "var url = is_local() ? \"http://127.0.0.1:8888/files/theme/custom.js\" : \"http://odhk.github.io/hyrule_theme/custom.js\"\n",
      "$.getScript(url)"
     ],
     "language": "python",
     "metadata": {},
     "outputs": [
      {
       "javascript": [
        "function is_local(){\n",
        "  return (document.location.hostname == \"localhost\" || document.location.hostname == '127.0.0.1')\n",
        "}\n",
        "var url = is_local() ? \"http://127.0.0.1:8888/files/theme/custom.js\" : \"http://odhk.github.io/hyrule_theme/custom.js\"\n",
        "$.getScript(url)"
       ],
       "metadata": {},
       "output_type": "display_data",
       "text": [
        "<IPython.core.display.Javascript at 0x7f596c2a4190>"
       ]
      }
     ],
     "prompt_number": 1
    },
    {
     "cell_type": "heading",
     "level": 1,
     "metadata": {},
     "source": [
      "Ongoing Assignment"
     ]
    },
    {
     "cell_type": "heading",
     "level": 2,
     "metadata": {},
     "source": [
      "Predicting Baseball Salaries"
     ]
    },
    {
     "cell_type": "markdown",
     "metadata": {},
     "source": [
      "Using the baseball dataset provided, submit your best model in predicting 2012 Salaries for each individual player.\n",
      "\n",
      "Since we do already have the actual answer, you should be testing your model against the real 2012 salary data to minimize error."
     ]
    },
    {
     "cell_type": "heading",
     "level": 2,
     "metadata": {},
     "source": [
      "Submissions "
     ]
    },
    {
     "cell_type": "markdown",
     "metadata": {},
     "source": [
      "* *Your python code* : This should read in an unedited baseball.csv file, do all of your data manipulation, and produce the predicted values into a new csv file. That means you're also submitting...\n",
      "* A csv of `player name`, `year_id (2012)`, the `predicted salary` (your new response/y/output), and the `actual salary (2012)`. This csv can be generated using the test csv file, generating the predicted values, and making a new pandas data frame.\n",
      "* Please submit to `/DS_HK_2/code/student/ongoing/baseball/`"
     ]
    },
    {
     "cell_type": "heading",
     "level": 2,
     "metadata": {},
     "source": [
      "Performance Measurement"
     ]
    },
    {
     "cell_type": "markdown",
     "metadata": {},
     "source": [
      "We will be measuring error on a random sample set (roughly half of the submission) using MSE (Mean Squared Error).\n",
      "\n",
      "**Benchmark MSE**: 2.094098e+13\n",
      "\n",
      "Or a more readable metric, benchmarked on R-Squared: 0.1322\n",
      "\n",
      "Find ways to improve the model and perform better than the benchmark provided."
     ]
    },
    {
     "cell_type": "heading",
     "level": 2,
     "metadata": {},
     "source": [
      "How to go about improving your answers"
     ]
    },
    {
     "cell_type": "markdown",
     "metadata": {},
     "source": [
      "1. You can easily grab a clean data set of just 2011 (training) and 2012 (test with no missing values) from this repo (in the [data/baseball](https://github.com/ga-students/DS_HK_2/tree/gh-pages/data/baseball) folder). This should make your data munging much easier.\n",
      "1. This assignment is ongoing. You can always submit a new model as you play with this data more often.\n",
      "1. Use the mean_squared_error metric available in scikit learn to measure your own performance and compare it to the benchmark.\n"
     ]
    },
    {
     "cell_type": "heading",
     "level": 3,
     "metadata": {},
     "source": [
      "A Good submission will"
     ]
    },
    {
     "cell_type": "markdown",
     "metadata": {},
     "source": [
      "* beat the benchmark\n",
      "* prove you understand how a regression works"
     ]
    },
    {
     "cell_type": "heading",
     "level": 3,
     "metadata": {},
     "source": [
      "A Great submission will"
     ]
    },
    {
     "cell_type": "markdown",
     "metadata": {},
     "source": [
      "* beat the benchmark\n",
      "* Show there was some exploration of the data set available in determining the most ideal model to submit\n",
      "* Likely attempted to go through all continuous data points in order to best predict salary"
     ]
    },
    {
     "cell_type": "heading",
     "level": 3,
     "metadata": {},
     "source": [
      "An Excellent submission will"
     ]
    },
    {
     "cell_type": "markdown",
     "metadata": {},
     "source": [
      "* beat the benchmark\n",
      "* Show there was some exploration of the data set available in determining the most ideal model to submit\n",
      "* Experiment with text data (bats, throws, team, league) and calculate new fields based on available data (age at playing year, etc)"
     ]
    }
   ],
   "metadata": {}
  }
 ]
}