{
 "metadata": {
  "name": "",
  "signature": "sha256:92e1e2117875663960c830c9b5898d7b6dae35bc64b642ecf2f1e3c32157bcbe"
 },
 "nbformat": 3,
 "nbformat_minor": 0,
 "worksheets": [
  {
   "cells": [
    {
     "cell_type": "code",
     "collapsed": false,
     "input": [
      "%%javascript\n",
      "function is_local(){\n",
      "  return (document.location.hostname == \"localhost\" || document.location.hostname == '127.0.0.1')\n",
      "}                                                       \n",
      "var url = is_local() ? \"http://127.0.0.1:8888/files/theme/custom.js\" : \"http://odhk.github.io/hyrule_theme/custom.js\"\n",
      "$.getScript(url)"
     ],
     "language": "python",
     "metadata": {},
     "outputs": [
      {
       "javascript": [
        "function is_local(){\n",
        "  return (document.location.hostname == \"localhost\" || document.location.hostname == '127.0.0.1')\n",
        "}                                                       \n",
        "var url = is_local() ? \"http://127.0.0.1:8888/files/theme/custom.js\" : \"http://odhk.github.io/hyrule_theme/custom.js\"\n",
        "$.getScript(url)"
       ],
       "metadata": {},
       "output_type": "display_data",
       "text": [
        "<IPython.core.display.Javascript at 0x7fd101585190>"
       ]
      }
     ],
     "prompt_number": 1
    },
    {
     "cell_type": "markdown",
     "metadata": {},
     "source": [
      "# Principal Component Analysis "
     ]
    },
    {
     "cell_type": "markdown",
     "metadata": {},
     "source": [
      "> Wit. \n",
      "\n",
      "<footer>~ PCA ( quote )</footer>"
     ]
    },
    {
     "cell_type": "markdown",
     "metadata": {},
     "source": [
      "![break](assets/agenda.png)"
     ]
    },
    {
     "cell_type": "markdown",
     "metadata": {},
     "source": [
      "1. Dimensionality Reduction\n",
      "1. Principal Components Analysis (PCA)\n",
      "1. Singular Value Decomposition\n",
      "1. Kernel Methods In PCA\n",
      "\n",
      "**Labs**\n",
      "1. Dimensionality Reduction In Scikit-learn"
     ]
    },
    {
     "cell_type": "markdown",
     "metadata": {},
     "source": [
      "![break](assets/theory.png)"
     ]
    },
    {
     "cell_type": "heading",
     "level": 2,
     "metadata": {},
     "source": [
      "Dimensionality Reduction"
     ]
    },
    {
     "cell_type": "markdown",
     "metadata": {},
     "source": [
      "Dimensionality Reduction is a set of techniques for reducing the size (in terms of features, records, and/or bytes) of the dataset under examination. In general, the idea is to regard the dataset as a matrix and to decompose the matrix into simpler, meaningful pieces. Dimensionality reduction is frequently performed as a pre-processing step before another learning algorithm is applied."
     ]
    },
    {
     "cell_type": "markdown",
     "metadata": {},
     "source": [
      "The number of features in our dataset can be difficult to manage, or even misleading (eg, if the relationships are actually simpler than they appear). For example, suppose we have a dataset with some features that are related to each other. Ideally, we would like to eliminate this redundancy and consolidate the number of variables we\u2019re looking at. If these relationships are linear, then we can use well-established techniques like `PCA/SVD`."
     ]
    },
    {
     "cell_type": "heading",
     "level": 3,
     "metadata": {},
     "source": [
      "Consider this"
     ]
    },
    {
     "cell_type": "markdown",
     "metadata": {},
     "source": [
      "Say we have a large room that contains `m` lights with unique light patterns and `n` cameras recording them. Using what the cameras record, how do we determine how many lights there are in the room?"
     ]
    },
    {
     "cell_type": "markdown",
     "metadata": {},
     "source": [
      "Say we have a large room that contains `m` lights with unique light patterns and `n` cameras recording them. Using what the cameras record, how do we determine how many lights there are in the room?"
     ]
    },
    {
     "cell_type": "markdown",
     "metadata": {},
     "source": [
      "![](assets/lights.png)"
     ]
    },
    {
     "cell_type": "markdown",
     "metadata": {},
     "source": [
      "_Setup of two lights and four cameras_"
     ]
    },
    {
     "cell_type": "markdown",
     "metadata": {},
     "source": [
      "![](assets/lightcapture.png)"
     ]
    },
    {
     "cell_type": "markdown",
     "metadata": {},
     "source": [
      "_Comparing Data Between Light Capture Cameras_"
     ]
    },
    {
     "cell_type": "markdown",
     "metadata": {},
     "source": [
      "![](assets/lights_ts.png)"
     ]
    },
    {
     "cell_type": "heading",
     "level": 3,
     "metadata": {},
     "source": [
      "Curse of Dimensionality"
     ]
    },
    {
     "cell_type": "markdown",
     "metadata": {},
     "source": [
      "The complexity that comes with a large number of features is due in part to the curse of dimensionality. Namely, the sample size needed to accurately estimate a random variable taking values in a dimensional feature space grows exponentially with the number of features (almost). (More precisely, the sample size grows exponentially with `l \u2264 features`, the dimension of the manifold embedded in the feature space)."
     ]
    },
    {
     "cell_type": "markdown",
     "metadata": {},
     "source": [
      "Most of the points in the space are \u201cfar\u201d from each other. This illustrates the fact that local methods will break down in these\n",
      "circumstances (eg, in order to collect enough neighbors for a given\n",
      "point, you need to expand the radius of the neighborhood so far that\n",
      "locality is not preserved)."
     ]
    },
    {
     "cell_type": "markdown",
     "metadata": {},
     "source": [
      "The bottom line is that high-dimensional spaces can be problematic."
     ]
    },
    {
     "cell_type": "heading",
     "level": 3,
     "metadata": {},
     "source": [
      "Goals of Dimensionality Reduction"
     ]
    },
    {
     "cell_type": "markdown",
     "metadata": {},
     "source": [
      "We\u2019d like to analyze the data using the most meaningful basis (or\n",
      "coordinates) possible."
     ]
    },
    {
     "cell_type": "markdown",
     "metadata": {},
     "source": [
      "More precisely: given an `n x m` matrix `X` (encoding `n` observations of a `m`-dimensional random variable), we want to find a `k`-dimensional\n",
      "representation of `X ( k < m )` that (approximately) captures the\n",
      "information in the original data, according to some criterion."
     ]
    },
    {
     "cell_type": "markdown",
     "metadata": {},
     "source": [
      "* reduce computational expense\n",
      "* reduce susceptibility to overfitting (but regularisation is better)\n",
      "* reduce noise in the dataset\n",
      "* _enhance our intuition_"
     ]
    },
    {
     "cell_type": "heading",
     "level": 3,
     "metadata": {},
     "source": [
      "Approaches to Dimensionality Reduction"
     ]
    },
    {
     "cell_type": "markdown",
     "metadata": {},
     "source": [
      "There are two approaches: feature selection and feature extraction."
     ]
    },
    {
     "cell_type": "markdown",
     "metadata": {},
     "source": [
      "* *feature selection* \u2013 selecting a subset of features using an external\n",
      "criterion (filter) or the learning algo accuracy itself (wrapper)\n",
      "* *feature extraction* \u2013 mapping the features to a lower dimensional\n",
      "space"
     ]
    },
    {
     "cell_type": "heading",
     "level": 4,
     "metadata": {},
     "source": [
      "Feature Selection"
     ]
    },
    {
     "cell_type": "markdown",
     "metadata": {},
     "source": [
      "![](assets/stewise.png)"
     ]
    },
    {
     "cell_type": "markdown",
     "metadata": {},
     "source": [
      "_Feature selection: Removing features with highest p-values and then\n",
      "refitting model (stepwise regression)_"
     ]
    },
    {
     "cell_type": "markdown",
     "metadata": {},
     "source": [
      "Feature selection is important, but typically when people say\n",
      "dimensionality reduction, they are referring to feature extraction."
     ]
    },
    {
     "cell_type": "heading",
     "level": 4,
     "metadata": {},
     "source": [
      "Feature Extraction"
     ]
    },
    {
     "cell_type": "markdown",
     "metadata": {},
     "source": [
      "The goal of feature extraction is to create a new set of coordinates\n",
      "(often in lower dimension) that simplify the representation of the data."
     ]
    },
    {
     "cell_type": "markdown",
     "metadata": {},
     "source": [
      "![](assets/featureextraction.png)"
     ]
    },
    {
     "cell_type": "markdown",
     "metadata": {},
     "source": [
      "### Applications of Dimensionality Reduction"
     ]
    },
    {
     "cell_type": "markdown",
     "metadata": {},
     "source": [
      "* Topic models (document clustering)\n",
      "* Image recognition/computer vision\n",
      "* Bioinformatics (microarray analysis)\n",
      "* Speech recognition\n",
      "* Astronomy (spectral data analysis)\n",
      "* Recommender systems"
     ]
    },
    {
     "cell_type": "heading",
     "level": 2,
     "metadata": {},
     "source": [
      "Principal Components Analysis (PCA)"
     ]
    },
    {
     "cell_type": "markdown",
     "metadata": {},
     "source": [
      "Principal component analysis is a dimension reduction technique that\n",
      "can be used on a matrix of any dimensions. This procedure produces a new basis, each of whose components retain as much variance from the original data as possible. The PCA of a matrix $X$ boils down to the eigenvalue decomposition of the covariance matrix of $X$."
     ]
    },
    {
     "cell_type": "heading",
     "level": 4,
     "metadata": {},
     "source": [
      "PCA Principle 1: In general high correlation between variables is a telltale sign of\n",
      "high redundancy in the data."
     ]
    },
    {
     "cell_type": "markdown",
     "metadata": {},
     "source": [
      "What about noise in the data? An assumption of PCA is that we have a reasonably high\n",
      "signal to noise ratio. In our case we do, because the high amplitude wave is the\n",
      "(important) signal; the small squiggles on top of the wave are the (to be discarded) noise.\n",
      "Note that \u201chigh amplitude\u201d (our indicator for importance) really means \u201clarge variance\u201d and \u201csmall squiggle\u201d (our indicator for irrelevance) is an informal synonym for \u201csmall\n",
      "variance.\u201d This leads us to\u2026"
     ]
    },
    {
     "cell_type": "heading",
     "level": 4,
     "metadata": {},
     "source": [
      "PCA Principle 2: The most important dynamics are the ones with the largest variance."
     ]
    },
    {
     "cell_type": "markdown",
     "metadata": {},
     "source": [
      "Before working with PCA you will want to ask yourself whether you believe this\n",
      "principle for your data. For many data sets it\u2019s fine, but it\u2019s worth thinking about before\n",
      "you throw away the small variance components. Nonetheless, we\u2019ll go with it and plow\n",
      "right on."
     ]
    },
    {
     "cell_type": "markdown",
     "metadata": {},
     "source": [
      "The covariance matrix $C$ of a matrix $X$ is always symmetric:"
     ]
    },
    {
     "cell_type": "markdown",
     "metadata": {},
     "source": [
      "![](assets/covariancematrix.png)"
     ]
    },
    {
     "cell_type": "markdown",
     "metadata": {},
     "source": [
      "off-diagonal elements $C_{ij}$ give the covariance between $X_i , X_j (i \u2260 j)$ diagonal elements $C_{ii}$ give the variance of $X_i$"
     ]
    },
    {
     "cell_type": "heading",
     "level": 3,
     "metadata": {},
     "source": [
      "Eigenvalue Decomposition"
     ]
    },
    {
     "cell_type": "markdown",
     "metadata": {},
     "source": [
      "The eigenvalue decomposition of a symmetric matrix $X$ is given by:"
     ]
    },
    {
     "cell_type": "markdown",
     "metadata": {},
     "source": [
      "$$X = Q\u039bQ^T$$"
     ]
    },
    {
     "cell_type": "markdown",
     "metadata": {},
     "source": [
      "The columns of Q are the eigenvectors of $X$, and the values in $\u039b$ are the associated eigenvalues of $X$. For an eigenvector $v$ of $X$ and its eigenvalue $\u03bb$, we have the important relation: $Xv = \u03bbv$"
     ]
    },
    {
     "cell_type": "markdown",
     "metadata": {},
     "source": [
      "The eigenvectors form a basis of the vector space on which $X$ acts (eg,\n",
      "they are orthogonal). Furthermore the basis elements are ordered by their eigenvalues (from largest to smallest), and these eigenvalues represent the amount of variance explained by each basis element."
     ]
    },
    {
     "cell_type": "markdown",
     "metadata": {},
     "source": [
      "This can be visualized in a scree plot, which shows the amount of variance explained by each basis vector."
     ]
    },
    {
     "cell_type": "markdown",
     "metadata": {},
     "source": [
      "![](assets/irisscree.png)"
     ]
    },
    {
     "cell_type": "markdown",
     "metadata": {},
     "source": [
      "![](assets/photodr.png)"
     ]
    },
    {
     "cell_type": "markdown",
     "metadata": {},
     "source": [
      "_PCA and [image compression](http://glowingpython.blogspot.it/2011/07/pca-and-image-compression-with-numpy.html) with numpy_"
     ]
    },
    {
     "cell_type": "markdown",
     "metadata": {},
     "source": [
      "Singular Value Decomposition"
     ]
    },
    {
     "cell_type": "markdown",
     "metadata": {},
     "source": [
      "Consider a matrix $A$ with $n$ rows and $d$ features. The *singular value decomposition* of $A$ is given by:"
     ]
    },
    {
     "cell_type": "markdown",
     "metadata": {},
     "source": [
      "![](assets/svd.png)"
     ]
    },
    {
     "cell_type": "markdown",
     "metadata": {},
     "source": [
      "![](assets/svd2.png)"
     ]
    },
    {
     "cell_type": "markdown",
     "metadata": {},
     "source": [
      "* st. $U$ , $V$ are orthogonal matrices and $\u03a3$ is a diagonal matrix.\n",
      "  * $U^{T}U = UU^{T} = I_{n} , V^{T}V = VV^{T} = I_{d} -> \u03a3_{ij} = 0 (i\u2260 j)$\n",
      "* The columns of $U$ & $V$ are the (left- and right-) singular vectors of $A$.\n",
      "* These singular vectors provide orthonormal bases for the spaces $K_n$ & $K_d$ (columns of $U$ & $V$, respectively).\n",
      "* The nonzero entries of $\u03a3$ are the singular values of $A$. These are real,\n",
      "nonnegative, and rank-ordered (decreasing from lest to right).\n",
      "* The number of singular values is equal to the rank of $A$. The rank of a matrix measures its non-degeneracy.\n",
      "* For a general SVD, the columns of $U$ are the eigenvectors of $AA^{T}$ , and the columns of $V$ are the eigenvectors of $A^{T}A$."
     ]
    },
    {
     "cell_type": "heading",
     "level": 2,
     "metadata": {},
     "source": [
      "Kernel Methods in Pca"
     ]
    },
    {
     "cell_type": "heading",
     "level": 3,
     "metadata": {},
     "source": [
      "Review"
     ]
    },
    {
     "cell_type": "markdown",
     "metadata": {},
     "source": [
      "With support vector machines, we covered three kernels:"
     ]
    },
    {
     "cell_type": "markdown",
     "metadata": {},
     "source": [
      "* linear: $$K(x,x\u2019) = x^{T}x$$\n",
      "* polynomial: $$K(x,x\u2019) = (x^{T}x\u2019 + 1)^{d}$$\n",
      "* gaussian (rdf): $$K(x,x\u2019) = exp(- \\gamma ||x - x\u2019||^{2})$$"
     ]
    },
    {
     "cell_type": "markdown",
     "metadata": {},
     "source": [
      "Likewise, PCA can also use kernels methods to produce new clarity around the structure of the data. In particular, KPCA is most often used for image de-noising and pattern recognition (or commonly novelty detection). KPCA is particularly useful for extracting nonlinear features, though like standard PCA, the interpretation is not always straightforward!"
     ]
    },
    {
     "cell_type": "markdown",
     "metadata": {},
     "source": [
      "![](assets/MLSS-2012-Fukumizu-Kernel-Methods-for-Statistical-Learning_034.png)"
     ]
    },
    {
     "cell_type": "markdown",
     "metadata": {},
     "source": [
      "![break](assets/code.png)"
     ]
    },
    {
     "cell_type": "heading",
     "level": 2,
     "metadata": {},
     "source": [
      "Dimensionality Reduction In Scikit-learn"
     ]
    },
    {
     "cell_type": "markdown",
     "metadata": {},
     "source": [
      "* run through the lights in the room problem from lecture\n",
      "* Use kernels with PCA\n",
      "* Application of PCA to new data"
     ]
    },
    {
     "cell_type": "code",
     "collapsed": false,
     "input": [
      "%matplotlib inline\n",
      "import pandas as pd\n",
      "import numpy as np\n",
      "import matplotlib\n",
      "import matplotlib.pyplot as plt\n",
      "\n",
      "# Don't show deprecation warnings\n",
      "import warnings\n",
      "warnings.filterwarnings(\"ignore\", category=DeprecationWarning) \n",
      "\n",
      "# Set some Pandas options\n",
      "pd.set_option('max_columns', 30)\n",
      "pd.set_option('max_rows', 20)\n",
      "\n",
      "# Set some Matplotlib options\n",
      "matplotlib.rcParams['figure.figsize'] = 20, 8\n",
      "\n",
      "# Store data in a consistent place\n",
      "DATA_DIR = '../data/'"
     ],
     "language": "python",
     "metadata": {},
     "outputs": [],
     "prompt_number": 3
    },
    {
     "cell_type": "heading",
     "level": 3,
     "metadata": {},
     "source": [
      "The lights in a room problem"
     ]
    },
    {
     "cell_type": "markdown",
     "metadata": {},
     "source": [
      "To verify that the light problem works out, we can generate some random data and test the theory."
     ]
    },
    {
     "cell_type": "code",
     "collapsed": false,
     "input": [
      "# Libraries and seed set\n",
      "from pandas import DataFrame\n",
      "from sklearn.decomposition import PCA\n",
      "np.random.seed(500)"
     ],
     "language": "python",
     "metadata": {},
     "outputs": [],
     "prompt_number": 4
    },
    {
     "cell_type": "markdown",
     "metadata": {},
     "source": [
      "Generate some data--we're building out a few lights in our room, and the data the cameras recorded.\n",
      "\n",
      "* **intensities**: the lights\n",
      "* **recorded_data**: data from our camera, generated through dists and the cameras (recorders)\n"
     ]
    },
    {
     "cell_type": "code",
     "collapsed": false,
     "input": [
      "recorders   = DataFrame({'locations' : ('A', 'B', 'C', 'D'), 'X' : (0, 0, 1, 1), 'Y' : (0, 1, 1, 0)})\n",
      "locations   = np.array([ [.3, .5], [.8, .2] ])\n",
      "intensities = np.array([\n",
      "        [np.sin(np.array(range(100)) * np.pi/10) + 1.2],\n",
      "        [np.cos(np.array(range(100)) * np.pi/15) * .7 + .9]]).T\n",
      "distances   = np.array([\n",
      "    np.sqrt((locations[0] - recorders.X[i])**2 + (locations[1] - recorders.Y[i])**2) for i in range(4)]).T\n",
      "\n",
      "data = np.dot(intensities, np.exp(-2*distances))\n",
      "data_transposed = data.T"
     ],
     "language": "python",
     "metadata": {},
     "outputs": [],
     "prompt_number": 5
    },
    {
     "cell_type": "code",
     "collapsed": false,
     "input": [
      "recorders"
     ],
     "language": "python",
     "metadata": {},
     "outputs": [
      {
       "html": [
        "<div style=\"max-height:1000px;max-width:1500px;overflow:auto;\">\n",
        "<table border=\"1\" class=\"dataframe\">\n",
        "  <thead>\n",
        "    <tr style=\"text-align: right;\">\n",
        "      <th></th>\n",
        "      <th>X</th>\n",
        "      <th>Y</th>\n",
        "      <th>locations</th>\n",
        "    </tr>\n",
        "  </thead>\n",
        "  <tbody>\n",
        "    <tr>\n",
        "      <th>0</th>\n",
        "      <td> 0</td>\n",
        "      <td> 0</td>\n",
        "      <td> A</td>\n",
        "    </tr>\n",
        "    <tr>\n",
        "      <th>1</th>\n",
        "      <td> 0</td>\n",
        "      <td> 1</td>\n",
        "      <td> B</td>\n",
        "    </tr>\n",
        "    <tr>\n",
        "      <th>2</th>\n",
        "      <td> 1</td>\n",
        "      <td> 1</td>\n",
        "      <td> C</td>\n",
        "    </tr>\n",
        "    <tr>\n",
        "      <th>3</th>\n",
        "      <td> 1</td>\n",
        "      <td> 0</td>\n",
        "      <td> D</td>\n",
        "    </tr>\n",
        "  </tbody>\n",
        "</table>\n",
        "</div>"
       ],
       "metadata": {},
       "output_type": "pyout",
       "prompt_number": 6,
       "text": [
        "   X  Y locations\n",
        "0  0  0         A\n",
        "1  0  1         B\n",
        "2  1  1         C\n",
        "3  1  0         D"
       ]
      }
     ],
     "prompt_number": 6
    },
    {
     "cell_type": "code",
     "collapsed": false,
     "input": [
      "locations"
     ],
     "language": "python",
     "metadata": {},
     "outputs": [
      {
       "metadata": {},
       "output_type": "pyout",
       "prompt_number": 7,
       "text": [
        "array([[ 0.3,  0.5],\n",
        "       [ 0.8,  0.2]])"
       ]
      }
     ],
     "prompt_number": 7
    },
    {
     "cell_type": "markdown",
     "metadata": {},
     "source": [
      "Take the mean of each column so we can later center the data--extremely useful for PCA."
     ]
    },
    {
     "cell_type": "code",
     "collapsed": false,
     "input": [
      "row_means = [np.mean(i) for i in data_transposed]\n",
      "data_transposed_scaled = np.array([data_transposed[i][0] - row_means[i] for i in range(4)])"
     ],
     "language": "python",
     "metadata": {},
     "outputs": [],
     "prompt_number": 13
    },
    {
     "cell_type": "markdown",
     "metadata": {},
     "source": [
      "Now that all the data has been generated, we can build the PCA model."
     ]
    },
    {
     "cell_type": "code",
     "collapsed": false,
     "input": [
      "pca = PCA()\n",
      "pca.fit(data_transposed_scaled)"
     ],
     "language": "python",
     "metadata": {},
     "outputs": [
      {
       "metadata": {},
       "output_type": "pyout",
       "prompt_number": 14,
       "text": [
        "PCA(copy=True, n_components=None, whiten=False)"
       ]
      }
     ],
     "prompt_number": 14
    },
    {
     "cell_type": "markdown",
     "metadata": {},
     "source": [
      "Pull out variance as an array. To make it easier to determine what to keep, scale the top variance to 1--in this practice, we should keep everything above .1 post scaling."
     ]
    },
    {
     "cell_type": "markdown",
     "metadata": {},
     "source": [
      "In the plot below, we can use the elbow rule to say that the first two components are useable and the last two are not."
     ]
    },
    {
     "cell_type": "code",
     "collapsed": false,
     "input": [
      "variance = pca.explained_variance_ratio_\n",
      "readable_variance = variance * (1/variance[0])\n",
      "print readable_variance\n",
      "plt.plot(range(4), readable_variance)\n",
      "plt.show()"
     ],
     "language": "python",
     "metadata": {},
     "outputs": [
      {
       "output_type": "stream",
       "stream": "stdout",
       "text": [
        "[  1.00000000e+00   9.23679126e-02   1.72629839e-31   9.04564527e-32]\n"
       ]
      },
      {
       "metadata": {},
       "output_type": "display_data",
       "png": "[encoded data removed]",
       "text": [
        "<matplotlib.figure.Figure at 0x7fd0d70070d0>"
       ]
      }
     ],
     "prompt_number": 18
    },
    {
     "cell_type": "markdown",
     "metadata": {},
     "source": [
      "Plotting all four components against eachother, we can see how clear the patters are for the first two (red and blue), while the others are much less readable/useable."
     ]
    },
    {
     "cell_type": "code",
     "collapsed": false,
     "input": [
      "colors = ('red', 'blue', 'green', 'orange')\n",
      "for i in range(4):\n",
      "    plt.plot(range(100), pca.components_[i], c=colors[i])"
     ],
     "language": "python",
     "metadata": {},
     "outputs": [
      {
       "metadata": {},
       "output_type": "display_data",
       "png": "[encoded data removed]",
       "text": [
        "<matplotlib.figure.Figure at 0x32b9290>"
       ]
      }
     ],
     "prompt_number": 43
    },
    {
     "cell_type": "heading",
     "level": 3,
     "metadata": {},
     "source": [
      "Using Kernels with PCA"
     ]
    },
    {
     "cell_type": "code",
     "collapsed": false,
     "input": [
      "from sklearn.decomposition import PCA, KernelPCA\n",
      "from sklearn.datasets import make_circles\n",
      "\n",
      "np.random.seed(0)\n",
      "\n",
      "X, y = make_circles(n_samples=400, factor=.3, noise=.05)\n",
      "\n",
      "kpca = KernelPCA(kernel=\"rbf\", fit_inverse_transform=True, gamma=10)\n",
      "X_kpca = kpca.fit_transform(X)\n",
      "X_back = kpca.inverse_transform(X_kpca)\n",
      "pca = PCA()\n",
      "X_pca = pca.fit_transform(X)\n",
      "\n",
      "# Plot results\n",
      "\n",
      "plt.figure()\n",
      "plt.subplot(2, 2, 1, aspect='equal')\n",
      "plt.title(\"Original space\")\n",
      "\n",
      "plt.plot(X[reds, 0], X[reds, 1], \"ro\")\n",
      "plt.plot(X[blues, 0], X[blues, 1], \"bo\")\n",
      "plt.xlabel(\"$x_1$\")\n",
      "plt.ylabel(\"$x_2$\")\n",
      "\n",
      "X1, X2 = np.meshgrid(np.linspace(-1.5, 1.5, 50), np.linspace(-1.5, 1.5, 50))\n",
      "X_grid = np.array([np.ravel(X1), np.ravel(X2)]).T\n",
      "# projection on the first principal component (in the phi space)\n",
      "Z_grid = kpca.transform(X_grid)[:, 0].reshape(X1.shape)\n",
      "plt.contour(X1, X2, Z_grid, colors='grey', linewidths=1, origin='lower')\n",
      "\n",
      "plt.subplot(2, 2, 2, aspect='equal')\n",
      "plt.plot(X_pca[reds, 0], X_pca[reds, 1], \"ro\")\n",
      "plt.plot(X_pca[blues, 0], X_pca[blues, 1], \"bo\")\n",
      "plt.title(\"Projection by PCA\")\n",
      "plt.xlabel(\"1st principal component\")\n",
      "plt.ylabel(\"2nd component\")\n",
      "\n",
      "plt.subplot(2, 2, 3, aspect='equal')\n",
      "plt.plot(X_kpca[reds, 0], X_kpca[reds, 1], \"ro\")\n",
      "plt.plot(X_kpca[blues, 0], X_kpca[blues, 1], \"bo\")\n",
      "plt.title(\"Projection by KPCA\")\n",
      "plt.xlabel(\"1st principal component in space induced by $\\phi$\")\n",
      "plt.ylabel(\"2nd component\")\n",
      "\n",
      "plt.subplot(2, 2, 4, aspect='equal')\n",
      "plt.plot(X_back[reds, 0], X_back[reds, 1], \"ro\")\n",
      "plt.plot(X_back[blues, 0], X_back[blues, 1], \"bo\")\n",
      "plt.title(\"Original space after inverse transform\")\n",
      "plt.xlabel(\"$x_1$\")\n",
      "pl.ylabel(\"$x_2$\")\n",
      "\n",
      "plt.subplots_adjust(0.02, 0.10, 0.98, 0.94, 0.04, 0.35)\n",
      "\n",
      "plt.show()"
     ],
     "language": "python",
     "metadata": {},
     "outputs": [
      {
       "ename": "NameError",
       "evalue": "name 'reds' is not defined",
       "output_type": "pyerr",
       "traceback": [
        "\u001b[1;31m---------------------------------------------------------------------------\u001b[0m\n\u001b[1;31mNameError\u001b[0m                                 Traceback (most recent call last)",
        "\u001b[1;32m<ipython-input-19-56265b11b4d0>\u001b[0m in \u001b[0;36m<module>\u001b[1;34m()\u001b[0m\n\u001b[0;32m     18\u001b[0m \u001b[0mplt\u001b[0m\u001b[1;33m.\u001b[0m\u001b[0mtitle\u001b[0m\u001b[1;33m(\u001b[0m\u001b[1;34m\"Original space\"\u001b[0m\u001b[1;33m)\u001b[0m\u001b[1;33m\u001b[0m\u001b[0m\n\u001b[0;32m     19\u001b[0m \u001b[1;33m\u001b[0m\u001b[0m\n\u001b[1;32m---> 20\u001b[1;33m \u001b[0mplt\u001b[0m\u001b[1;33m.\u001b[0m\u001b[0mplot\u001b[0m\u001b[1;33m(\u001b[0m\u001b[0mX\u001b[0m\u001b[1;33m[\u001b[0m\u001b[0mreds\u001b[0m\u001b[1;33m,\u001b[0m \u001b[1;36m0\u001b[0m\u001b[1;33m]\u001b[0m\u001b[1;33m,\u001b[0m \u001b[0mX\u001b[0m\u001b[1;33m[\u001b[0m\u001b[0mreds\u001b[0m\u001b[1;33m,\u001b[0m \u001b[1;36m1\u001b[0m\u001b[1;33m]\u001b[0m\u001b[1;33m,\u001b[0m \u001b[1;34m\"ro\"\u001b[0m\u001b[1;33m)\u001b[0m\u001b[1;33m\u001b[0m\u001b[0m\n\u001b[0m\u001b[0;32m     21\u001b[0m \u001b[0mplt\u001b[0m\u001b[1;33m.\u001b[0m\u001b[0mplot\u001b[0m\u001b[1;33m(\u001b[0m\u001b[0mX\u001b[0m\u001b[1;33m[\u001b[0m\u001b[0mblues\u001b[0m\u001b[1;33m,\u001b[0m \u001b[1;36m0\u001b[0m\u001b[1;33m]\u001b[0m\u001b[1;33m,\u001b[0m \u001b[0mX\u001b[0m\u001b[1;33m[\u001b[0m\u001b[0mblues\u001b[0m\u001b[1;33m,\u001b[0m \u001b[1;36m1\u001b[0m\u001b[1;33m]\u001b[0m\u001b[1;33m,\u001b[0m \u001b[1;34m\"bo\"\u001b[0m\u001b[1;33m)\u001b[0m\u001b[1;33m\u001b[0m\u001b[0m\n\u001b[0;32m     22\u001b[0m \u001b[0mplt\u001b[0m\u001b[1;33m.\u001b[0m\u001b[0mxlabel\u001b[0m\u001b[1;33m(\u001b[0m\u001b[1;34m\"$x_1$\"\u001b[0m\u001b[1;33m)\u001b[0m\u001b[1;33m\u001b[0m\u001b[0m\n",
        "\u001b[1;31mNameError\u001b[0m: name 'reds' is not defined"
       ]
      },
      {
       "metadata": {},
       "output_type": "display_data",
       "png": "[encoded data removed]",
       "text": [
        "<matplotlib.figure.Figure at 0x7fd0d6f8e990>"
       ]
      }
     ],
     "prompt_number": 19
    },
    {
     "cell_type": "markdown",
     "metadata": {},
     "source": [
      "![](assets/kpca.png)"
     ]
    },
    {
     "cell_type": "markdown",
     "metadata": {},
     "source": [
      "## Application of PCA to data\n",
      "Submit answers on GitHub for 1-2 under your personal Lesson13 directory.\n",
      "\n",
      "1. Work through the iris data set include in sklearn and determine how many principal components are required to accurately predict the data. Note: you should be able to graph it, so it has to be one or two :)\n",
      "\n",
      "2. Try using a kernel to make the PCs have an even clearer distinction between each class label in the iris data set. Submit your parameters in GitHub.\n",
      "\n",
      "3. The data from the KPCA section of lecture is from [this data](https://gist.github.com/tijptjik/9408623). See what you can reproduce using KPCA to accurately predict the \"Wine\" column.\n",
      "\n",
      "4. How can PCA/KPCA be used on either the baseball or cars problem? Continue practicing your application of these data sets and see how you can improve your current model implementation.\n",
      "\n",
      "### Uses and misuses of PCA\n",
      "\n",
      "#### Good\n",
      "* To compress the data so it takes up less computer memory / disk space\n",
      "* To reduce the dimensions of the input so as to speed up a learning algorythm (e.g. image processing)\n",
      "* To visualise high-dimensional data (by choosing k = 2 or k = 3)\n",
      "\n",
      "#### Not Recommended\n",
      "* Before trying a learning system without it with raw values\n",
      "* To preventing overfitting (regularisation much better, uses y labels, doesn't throw away variance)\n",
      "\n"
     ]
    },
    {
     "cell_type": "markdown",
     "metadata": {},
     "source": [
      "![break](assets/resources.png)"
     ]
    },
    {
     "cell_type": "heading",
     "level": 2,
     "metadata": {},
     "source": [
      "Resources"
     ]
    },
    {
     "cell_type": "heading",
     "level": 3,
     "metadata": {},
     "source": [
      "Tutorial"
     ]
    },
    {
     "cell_type": "markdown",
     "metadata": {},
     "source": [
      "* [A Tutorial on Principal Component Analysis](http://shlens.wordpress.com/tutorials/)\n",
      "* [Dimensionality Reduction A Short Tutorial](http://www.math.uwaterloo.ca/~aghodsib/courses/f06stat890/readings/tutorial_stat890.pdf)\n",
      "* [Stanford PCA Tutorial](http://ufldl.stanford.edu/wiki/index.php/PCA)\n",
      "* [Aaron's PCA/3d/clustering post](http://planspace.org/2013/02/03/pca-3d-visualization-and-clustering-in-r/)"
     ]
    },
    {
     "cell_type": "heading",
     "level": 4,
     "metadata": {},
     "source": [
      "Extra"
     ]
    },
    {
     "cell_type": "markdown",
     "metadata": {},
     "source": [
      "* [Sample size vs. dimensionality](http://www.cbcb.umd.edu/~salzberg/docs/murthy_thesis/survey/node16.html)"
     ]
    },
    {
     "cell_type": "heading",
     "level": 3,
     "metadata": {},
     "source": [
      "Academic"
     ]
    },
    {
     "cell_type": "markdown",
     "metadata": {},
     "source": [
      "* [Dimensionality Reduction Methods](http://www.stat-d.si/mz/mz2.1/dambra.pdf)\n",
      "* [A survey of dimension reduction techniques](http://www.cc.gatech.edu/~isbell/tutorials/dimred-survey.pdf)"
     ]
    },
    {
     "cell_type": "heading",
     "level": 4,
     "metadata": {},
     "source": [
      "Sample Size"
     ]
    },
    {
     "cell_type": "markdown",
     "metadata": {},
     "source": [
      "* [Sample size determination](http://en.wikipedia.org/wiki/Sample_size_determination)\n",
      "* [Optimal number of features as a function of sample size for various classi\ufb01cation rules](http://bioinformatics.oxfordjournals.org/content/21/8/1509.full.pdf+html)\n",
      "* [Sample size and statistical power considerations in high-dimensionality data settings: a comparative study of classification algorithms](http://link.springer.com/content/pdf/10.1186%2F1471-2105-11-447.pdf)\n",
      "* [Some considerations of classification for high dimension low-sample size data](http://smm.sagepub.com/content/early/2011/11/22/0962280211428387.abstract)"
     ]
    }
   ],
   "metadata": {}
  }
 ]
}