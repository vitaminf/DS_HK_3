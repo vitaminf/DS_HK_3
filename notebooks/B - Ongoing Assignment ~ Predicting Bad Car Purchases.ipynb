{
 "metadata": {
  "name": "",
  "signature": "sha256:1eee9123541dc0537e62f28941250fc70ea66c34977901ddec867b2f19b711b3"
 },
 "nbformat": 3,
 "nbformat_minor": 0,
 "worksheets": [
  {
   "cells": [
    {
     "cell_type": "code",
     "collapsed": false,
     "input": [
      "%%javascript\n",
      "function is_local(){\n",
      "  return (document.location.hostname == \"localhost\" || document.location.hostname == '127.0.0.1')\n",
      "}\n",
      "var url = is_local() ? \"http://127.0.0.1:8888/files/theme/custom.js\" : \"http://odhk.github.io/hyrule_theme/custom.js\"\n",
      "$.getScript(url)"
     ],
     "language": "python",
     "metadata": {},
     "outputs": [
      {
       "javascript": [
        "function is_local(){\n",
        "  return (document.location.hostname == \"localhost\" || document.location.hostname == '127.0.0.1')\n",
        "}\n",
        "var url = is_local() ? \"http://127.0.0.1:8888/files/theme/custom.js\" : \"http://odhk.github.io/hyrule_theme/custom.js\"\n",
        "$.getScript(url)"
       ],
       "metadata": {},
       "output_type": "display_data",
       "text": [
        "<IPython.core.display.Javascript at 0x7f81e8223190>"
       ]
      }
     ],
     "prompt_number": 1
    },
    {
     "cell_type": "heading",
     "level": 1,
     "metadata": {},
     "source": [
      "Ongoing Assignment"
     ]
    },
    {
     "cell_type": "heading",
     "level": 2,
     "metadata": {},
     "source": [
      "Predicting Bad Car Purchases"
     ]
    },
    {
     "cell_type": "markdown",
     "metadata": {},
     "source": [
      "The data from this assignment was originally used for a kaggle competition. The intent is to determine if a used car purchase was a good deal or not worth the amount of work that would have to go into it (a 'lemon')."
     ]
    },
    {
     "cell_type": "heading",
     "level": 3,
     "metadata": {},
     "source": [
      "Data"
     ]
    },
    {
     "cell_type": "markdown",
     "metadata": {},
     "source": [
      "Data is included in the repo under data/class/lemonsClassificationData. Included is the training set (which has `IsBadBuy` included), the test set ('IsBadBuy' not included), and a description text file explaining each column."
     ]
    },
    {
     "cell_type": "heading",
     "level": 3,
     "metadata": {},
     "source": [
      "Objective"
     ]
    },
    {
     "cell_type": "markdown",
     "metadata": {},
     "source": [
      "Clean up the data as needed and create a model for predicting if the car IsBadBuy. You may use any of the classification algorithms learned (or still to learn) to predict this column, though given the data, some algorithms will be better than others."
     ]
    },
    {
     "cell_type": "heading",
     "level": 3,
     "metadata": {},
     "source": [
      "Submission file"
     ]
    },
    {
     "cell_type": "markdown",
     "metadata": {},
     "source": [
      "Like the regression problem, submit both your python script and the output csv file which includes two columns:"
     ]
    },
    {
     "cell_type": "markdown",
     "metadata": {},
     "source": [
      "    RefId, IsBadBuy\n",
      "    3,0\n",
      "    4,0\n",
      "    8,1"
     ]
    },
    {
     "cell_type": "markdown",
     "metadata": {},
     "source": [
      "This submission is based on the test csv file, which has the IsBadBuy column missing. This means that unlike the regression problem, you have to validate with your training data to feel more comfortable about your submission!"
     ]
    },
    {
     "cell_type": "heading",
     "level": 3,
     "metadata": {},
     "source": [
      "Scoring"
     ]
    },
    {
     "cell_type": "markdown",
     "metadata": {},
     "source": [
      "We will be scoring the submission based on the AUC from precision and recall based on the two outputs."
     ]
    }
   ],
   "metadata": {}
  }
 ]
}